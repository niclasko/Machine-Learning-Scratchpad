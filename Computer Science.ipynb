{
 "cells": [
  {
   "cell_type": "code",
   "execution_count": 1,
   "id": "802313e0",
   "metadata": {},
   "outputs": [],
   "source": [
    "import numpy as np"
   ]
  },
  {
   "cell_type": "markdown",
   "id": "ea6a4938",
   "metadata": {},
   "source": [
    "### Longest increasing subsequence"
   ]
  },
  {
   "cell_type": "code",
   "execution_count": 17,
   "id": "93f06556",
   "metadata": {},
   "outputs": [
    {
     "name": "stdout",
     "output_type": "stream",
     "text": [
      "Longest subsequence: [0, 4, 6, 9, 13, 15]. Length: 6\n"
     ]
    }
   ],
   "source": [
    "x = [0, 8, 4, 12, 2, 10, 6, 14, 1, 9, 5, 13, 3, 11, 7, 15]\n",
    "s = np.ones(len(x))\n",
    "\n",
    "for i in range(len(x)-1,-1,-1):\n",
    "    for j in range(i+1,len(x)):\n",
    "        if x[j] > x[i]:\n",
    "            s[i] = s[j]+1 if s[j] >= s[i] else s[i]\n",
    "\n",
    "longest_subsequence = []\n",
    "current_ix = np.argmax(s)\n",
    "longest_subsequence.append(x[current_ix])\n",
    "for i in range(np.argmax(s), len(s)-1):\n",
    "    if s[current_ix]-s[i+1] == 1:\n",
    "        longest_subsequence.append(x[i+1])\n",
    "        current_ix = i+1\n",
    "\n",
    "print(f\"Longest subsequence: {longest_subsequence}. Length: {len(longest_subsequence)}\")"
   ]
  },
  {
   "cell_type": "code",
   "execution_count": null,
   "id": "59f1d0d9",
   "metadata": {},
   "outputs": [],
   "source": []
  }
 ],
 "metadata": {
  "kernelspec": {
   "display_name": "Python 3",
   "language": "python",
   "name": "python3"
  },
  "language_info": {
   "codemirror_mode": {
    "name": "ipython",
    "version": 3
   },
   "file_extension": ".py",
   "mimetype": "text/x-python",
   "name": "python",
   "nbconvert_exporter": "python",
   "pygments_lexer": "ipython3",
   "version": "3.9.4"
  }
 },
 "nbformat": 4,
 "nbformat_minor": 5
}
